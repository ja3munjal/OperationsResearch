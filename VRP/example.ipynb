{
 "cells": [
  {
   "cell_type": "code",
   "execution_count": 20,
   "metadata": {},
   "outputs": [],
   "source": [
    "import requests\n",
    "import pandas as pd"
   ]
  },
  {
   "cell_type": "code",
   "execution_count": 21,
   "metadata": {},
   "outputs": [],
   "source": [
    "# # def __get_distance_osrm(self, source_lat, source_long, destination_lat, destination_long):\n",
    "# destination_lat=25.404874\t\n",
    "# destination_long=87.867901\n",
    "# source_lat=22.564566\n",
    "# source_long=88.39582\n",
    "\n",
    "# try:\n",
    "#     source_cord = str(source_long) + ',' + str(source_lat)\n",
    "#     destination_cord = str(destination_long) + ',' + str(destination_lat)\n",
    "#     url = 'http://router.project-osrm.org/route/v1/driving/{0};{1}?steps=true'.format(source_cord,destination_cord)\n",
    "#     # url = 'http://13.234.43.137:5000/route/v1/driving/' + source_cord + ';' + destination_cord\n",
    "#     req = requests.get(url)\n",
    "#     response = req.json()\n",
    "#     print(response['routes'][0]['legs'][0]['duration']/3600)\n",
    "# except Exception as e:\n",
    "#     print(\"Error:\", e)"
   ]
  },
  {
   "cell_type": "code",
   "execution_count": 22,
   "metadata": {},
   "outputs": [],
   "source": [
    "data=pd.read_excel(\"data_1.xlsx\",engine='openpyxl')\n",
    "# !pip install openpyxl"
   ]
  },
  {
   "cell_type": "code",
   "execution_count": 23,
   "metadata": {},
   "outputs": [],
   "source": [
    "node_mother=data.query('Category==\"Mother\"').reset_index(drop=True)\n",
    "node_daughter=data.query('Category==\"Daughter\"').reset_index(drop=True)"
   ]
  },
  {
   "cell_type": "code",
   "execution_count": 24,
   "metadata": {},
   "outputs": [
    {
     "data": {
      "text/html": [
       "<div>\n",
       "<style scoped>\n",
       "    .dataframe tbody tr th:only-of-type {\n",
       "        vertical-align: middle;\n",
       "    }\n",
       "\n",
       "    .dataframe tbody tr th {\n",
       "        vertical-align: top;\n",
       "    }\n",
       "\n",
       "    .dataframe thead th {\n",
       "        text-align: right;\n",
       "    }\n",
       "</style>\n",
       "<table border=\"1\" class=\"dataframe\">\n",
       "  <thead>\n",
       "    <tr style=\"text-align: right;\">\n",
       "      <th></th>\n",
       "      <th>center_name</th>\n",
       "      <th>latitude</th>\n",
       "      <th>longitude</th>\n",
       "      <th>Category</th>\n",
       "    </tr>\n",
       "  </thead>\n",
       "  <tbody>\n",
       "    <tr>\n",
       "      <th>0</th>\n",
       "      <td>1</td>\n",
       "      <td>25.404874</td>\n",
       "      <td>87.867901</td>\n",
       "      <td>Daughter</td>\n",
       "    </tr>\n",
       "    <tr>\n",
       "      <th>1</th>\n",
       "      <td>2</td>\n",
       "      <td>23.250398</td>\n",
       "      <td>88.333175</td>\n",
       "      <td>Daughter</td>\n",
       "    </tr>\n",
       "    <tr>\n",
       "      <th>2</th>\n",
       "      <td>3</td>\n",
       "      <td>25.676970</td>\n",
       "      <td>88.218262</td>\n",
       "      <td>Daughter</td>\n",
       "    </tr>\n",
       "    <tr>\n",
       "      <th>3</th>\n",
       "      <td>4</td>\n",
       "      <td>22.782778</td>\n",
       "      <td>88.576250</td>\n",
       "      <td>Daughter</td>\n",
       "    </tr>\n",
       "    <tr>\n",
       "      <th>4</th>\n",
       "      <td>5</td>\n",
       "      <td>23.531450</td>\n",
       "      <td>86.668270</td>\n",
       "      <td>Daughter</td>\n",
       "    </tr>\n",
       "  </tbody>\n",
       "</table>\n",
       "</div>"
      ],
      "text/plain": [
       "   center_name   latitude  longitude  Category\n",
       "0            1  25.404874  87.867901  Daughter\n",
       "1            2  23.250398  88.333175  Daughter\n",
       "2            3  25.676970  88.218262  Daughter\n",
       "3            4  22.782778  88.576250  Daughter\n",
       "4            5  23.531450  86.668270  Daughter"
      ]
     },
     "execution_count": 24,
     "metadata": {},
     "output_type": "execute_result"
    }
   ],
   "source": [
    "\n",
    "node_daughter.head()"
   ]
  },
  {
   "cell_type": "code",
   "execution_count": 29,
   "metadata": {},
   "outputs": [
    {
     "data": {
      "text/plain": [
       "191"
      ]
     },
     "execution_count": 29,
     "metadata": {},
     "output_type": "execute_result"
    }
   ],
   "source": [
    "len(node_daughter)"
   ]
  },
  {
   "cell_type": "code",
   "execution_count": 46,
   "metadata": {},
   "outputs": [],
   "source": [
    "node_list = [*node_mother.center_name.values]\n",
    "DC = [*node_daughter.center_name.values]\n",
    "total_nodes=node_list.copy()\n",
    "total_nodes.extend(DC)\n",
    "# node_list.extend(DC)\n",
    "# # dc_list = node_list\n",
    "dc_list = total_nodes\n",
    "dist_matrix = {i:{j:0 for j in dc_list} for i in dc_list}\n",
    "time_matrix = {i:{j:0 for j in dc_list} for i in dc_list}"
   ]
  },
  {
   "cell_type": "code",
   "execution_count": 56,
   "metadata": {},
   "outputs": [
    {
     "data": {
      "text/plain": [
       "[57, 118, 124, 133, 134, 137, 141, 142, 145, 171, 178]"
      ]
     },
     "execution_count": 56,
     "metadata": {},
     "output_type": "execute_result"
    }
   ],
   "source": [
    "node_list"
   ]
  },
  {
   "cell_type": "code",
   "execution_count": null,
   "metadata": {},
   "outputs": [],
   "source": [
    "n=0\n",
    "for i in dc_list:\n",
    "    origin = (data.loc[data.center_name==i,'latitude'].values[0],data.loc[data.center_name==i,'longitude'].values[0])\n",
    "    print(n)\n",
    "    n+=1\n",
    "    for j in dc_list:\n",
    "        try:\n",
    "            destination =(data.loc[data.center_name==j,'latitude'].values[0],data.loc[data.center_name==j,'longitude'].values[0])\n",
    "            # if self.USE_GOOGLE_API is True:\n",
    "            #     distance = (self.gmaps.distance_matrix(origin, destination, mode='driving', avoid='ferries')['rows'][0]['elements'][0]['distance']['value'])/1000\n",
    "            #     time = (self.gmaps.distance_matrix(origin, destination, mode='driving', avoid='ferries')['rows'][0]['elements'][0]['duration']['value'])/3600\n",
    "            # if distance>self.model_parameters['MAX_DISTANCE']:\n",
    "            #     print(f'Warning!!! Distance between {i} and {j} seems high')\n",
    "            # time_matrix[i][j] = time\n",
    "            # OSRM\n",
    "            source_cord = str(origin[1])+','+str(origin[0])\n",
    "            destination_cord = str(destination[1])+','+str(destination[0])\n",
    "            # url = 'http://router.project-osrm.org/route/v1/driving/'+source_cord+';'+destination_cord+'?steps=true'\n",
    "            url=  'http://router.project-osrm.org/route/v1/driving/{0};{1}?steps=true'.format(source_cord,destination_cord)\n",
    "            req = requests.get(url)\n",
    "            response = req.json()\n",
    "            distance = response['routes'][0]['legs'][0]['distance']/1000\n",
    "                    #    response['routes'][0]['legs'][0]['duration']\n",
    "            # print(distance)\n",
    "            dist_matrix[i][j] = distance\n",
    "        \n",
    "        except:\n",
    "            print(f'Could not compute distance for {j}')\n",
    "print('Distance computation done...')"
   ]
  },
  {
   "cell_type": "code",
   "execution_count": null,
   "metadata": {},
   "outputs": [],
   "source": [
    "results_distance = pd.DataFrame(dist_matrix, index = dist_matrix.keys(), columns = dist_matrix.keys())\n",
    "results_distance"
   ]
  },
  {
   "cell_type": "code",
   "execution_count": 63,
   "metadata": {},
   "outputs": [],
   "source": [
    "# results_distance.to_csv('dist_matrix_df.csv',index=False)\n",
    "import pandas as pd\n",
    "results_time=pd.read_csv('time_matrix_df.csv',index_col=None)\n",
    "# results_distance"
   ]
  },
  {
   "cell_type": "code",
   "execution_count": 66,
   "metadata": {},
   "outputs": [],
   "source": [
    "time_matrix_list = []\n",
    "for i,k in results_time.iterrows():\n",
    "    time_matrix_list.append(list(results_time.loc[i,:].values))"
   ]
  },
  {
   "cell_type": "code",
   "execution_count": 65,
   "metadata": {},
   "outputs": [],
   "source": [
    "\n",
    "from ortools.constraint_solver import routing_enums_pb2\n",
    "from ortools.constraint_solver import pywrapcp"
   ]
  },
  {
   "cell_type": "code",
   "execution_count": 67,
   "metadata": {},
   "outputs": [
    {
     "name": "stdout",
     "output_type": "stream",
     "text": [
      "Objective: 0\n",
      "Route for vehicle 0:\n",
      " 57 -> 57\n",
      "Distance of the route: 0m\n",
      "\n",
      "Route for vehicle 1:\n",
      " 118 -> 118\n",
      "Distance of the route: 0m\n",
      "\n",
      "Route for vehicle 2:\n",
      " 124 -> 124\n",
      "Distance of the route: 0m\n",
      "\n",
      "Route for vehicle 3:\n",
      " 133 -> 133\n",
      "Distance of the route: 0m\n",
      "\n",
      "Route for vehicle 4:\n",
      " 134 -> 134\n",
      "Distance of the route: 0m\n",
      "\n",
      "Route for vehicle 5:\n",
      " 137 -> 137\n",
      "Distance of the route: 0m\n",
      "\n",
      "Route for vehicle 6:\n",
      " 141 -> 141\n",
      "Distance of the route: 0m\n",
      "\n",
      "Route for vehicle 7:\n",
      " 142 -> 142\n",
      "Distance of the route: 0m\n",
      "\n",
      "Route for vehicle 8:\n",
      " 145 -> 145\n",
      "Distance of the route: 0m\n",
      "\n",
      "Route for vehicle 9:\n",
      " 171 -> 171\n",
      "Distance of the route: 0m\n",
      "\n",
      "Route for vehicle 10:\n",
      " 178 ->  201 ->  200 ->  199 ->  198 ->  197 ->  196 ->  195 ->  194 ->  193 ->  192 ->  191 ->  190 ->  189 ->  188 ->  187 ->  186 ->  185 ->  184 ->  183 ->  182 ->  181 ->  180 ->  179 ->  177 ->  176 ->  175 ->  174 ->  173 ->  172 ->  170 ->  169 ->  168 ->  167 ->  166 ->  165 ->  164 ->  163 ->  162 ->  161 ->  160 ->  159 ->  158 ->  157 ->  156 ->  155 ->  154 ->  153 ->  152 ->  151 ->  150 ->  149 ->  148 ->  147 ->  146 ->  144 ->  143 ->  140 ->  139 ->  138 ->  136 ->  135 ->  132 ->  131 ->  130 ->  129 ->  128 ->  127 ->  126 ->  125 ->  123 ->  122 ->  121 ->  120 ->  119 ->  117 ->  116 ->  115 ->  114 ->  113 ->  112 ->  111 ->  110 ->  109 ->  108 ->  107 ->  106 ->  105 ->  104 ->  103 ->  102 ->  101 ->  100 ->  99 ->  98 ->  97 ->  96 ->  95 ->  94 ->  93 ->  92 ->  91 ->  90 ->  89 ->  88 ->  87 ->  86 ->  85 ->  84 ->  83 ->  82 ->  81 ->  80 ->  79 ->  78 ->  77 ->  76 ->  75 ->  74 ->  73 ->  72 ->  71 ->  70 ->  69 ->  68 ->  67 ->  66 ->  65 ->  64 ->  63 ->  62 ->  61 ->  60 ->  59 ->  58 ->  56 ->  55 ->  54 ->  53 ->  52 ->  51 ->  50 ->  49 ->  48 ->  47 ->  46 ->  45 ->  44 ->  43 ->  42 ->  41 ->  40 ->  39 ->  38 ->  37 ->  36 ->  35 ->  34 ->  33 ->  32 ->  31 ->  30 ->  29 ->  28 ->  27 ->  26 ->  25 ->  24 ->  23 ->  22 ->  21 ->  20 ->  19 ->  18 ->  17 ->  16 ->  15 ->  14 ->  13 ->  12 ->  11 ->  10 ->  9 ->  8 ->  7 ->  6 ->  5 ->  4 ->  3 ->  2 ->  1 ->  0 -> 178\n",
      "Distance of the route: 0m\n",
      "\n",
      "Maximum of the route distances: 0m\n"
     ]
    }
   ],
   "source": [
    "def create_data_model():\n",
    "    \"\"\"Stores the data for xthe problem.\"\"\"\n",
    "    data = {}\n",
    "    # data['distance_matrix'] =dist_matrix_list\n",
    "    # data['distance_matrix'] =dist_matrix_list\n",
    "    data['time_matrix']=time_matrix_list\n",
    "    data['num_vehicles'] = 11\n",
    "    data['depot'] = 0\n",
    "    data['starts']=[57, 118, 124, 133, 134, 137, 141, 142, 145, 171, 178]\n",
    "    data['ends']=[57, 118, 124, 133, 134, 137, 141, 142, 145, 171, 178]\n",
    "    return data\n",
    "\n",
    "def print_solution(data, manager, routing, solution):\n",
    "    \"\"\"Prints solution on console.\"\"\"\n",
    "    print(f'Objective: {solution.ObjectiveValue()}')\n",
    "    max_route_distance = 0\n",
    "    for vehicle_id in range(data['num_vehicles']):\n",
    "        index = routing.Start(vehicle_id)\n",
    "        plan_output = 'Route for vehicle {}:\\n'.format(vehicle_id)\n",
    "        route_distance = 0\n",
    "        while not routing.IsEnd(index):\n",
    "            plan_output += ' {} -> '.format(manager.IndexToNode(index))\n",
    "            previous_index = index\n",
    "            index = solution.Value(routing.NextVar(index))\n",
    "            route_distance += routing.GetArcCostForVehicle(\n",
    "                previous_index, index, vehicle_id)\n",
    "        plan_output += '{}\\n'.format(manager.IndexToNode(index))\n",
    "        plan_output += 'Distance of the route: {}m\\n'.format(route_distance)\n",
    "        print(plan_output)\n",
    "        max_route_distance = max(route_distance, max_route_distance)\n",
    "    print('Maximum of the route distances: {}m'.format(max_route_distance))\n",
    "\n",
    "\n",
    "def main():\n",
    "    \"\"\"Entry point of the program.\"\"\"\n",
    "    # Instantiate the data problem.\n",
    "    data = create_data_model()\n",
    "\n",
    "    # Create the routing index manager.\n",
    "    # manager = pywrapcp.RoutingIndexManager(len(data['distance_matrix']),\n",
    "    #                                        data['num_vehicles'], data['depot'])\n",
    "    manager = pywrapcp.RoutingIndexManager(len(data['time_matrix']),\n",
    "                                           data['num_vehicles'], data['starts'],data['ends'])\n",
    "    # Create Routing Model.\n",
    "    routing = pywrapcp.RoutingModel(manager)\n",
    "\n",
    "\n",
    "    # # Create and register a transit callback.\n",
    "    # def distance_callback(from_index, to_index):\n",
    "    #     \"\"\"Returns the distance between the two nodes.\"\"\"\n",
    "    #     # Convert from routing variable Index to distance matrix NodeIndex.\n",
    "    #     from_node = manager.IndexToNode(from_index)\n",
    "    #     to_node = manager.IndexToNode(to_index)\n",
    "    #     return data['distance_matrix'][from_node][to_node]\n",
    "    # transit_callback_index = routing.RegisterTransitCallback(distance_callback)\n",
    "\n",
    "\n",
    "    # Create and register a transit callback.\n",
    "    def time_callback(from_index, to_index):\n",
    "        \"\"\"Returns the travel time between the two nodes.\"\"\"\n",
    "        # Convert from routing variable Index to time matrix NodeIndex.\n",
    "        from_node = manager.IndexToNode(from_index)\n",
    "        to_node = manager.IndexToNode(to_index)\n",
    "        return data['time_matrix'][from_node][to_node]\n",
    "\n",
    "    transit_callback_index = routing.RegisterTransitCallback(time_callback)\n",
    "\n",
    "    \n",
    "\n",
    "    # Define cost of each arc.\n",
    "    routing.SetArcCostEvaluatorOfAllVehicles(transit_callback_index)\n",
    "\n",
    "    # # Add Distance constraint.\n",
    "    # dimension_name = 'Distance'\n",
    "    # routing.AddDimension(\n",
    "    #     transit_callback_index,\n",
    "    #     0,  # no slack\n",
    "    #     3000,  # vehicle maximum travel distance\n",
    "    #     True,  # start cumul to zero\n",
    "    #     dimension_name)\n",
    "    # distance_dimension = routing.GetDimensionOrDie(dimension_name)\n",
    "    # distance_dimension.SetGlobalSpanCostCoefficient(100)\n",
    "# Add Time Windows constraint.\n",
    "    time = 'Time'\n",
    "    routing.AddDimension(\n",
    "        transit_callback_index,\n",
    "        30,  # allow waiting time\n",
    "        30,  # maximum time per vehicle\n",
    "        False,  # Don't force start cumul to zero.\n",
    "        time)\n",
    "    time_dimension = routing.GetDimensionOrDie(time)\n",
    "    # Setting first solution heuristic.\n",
    "    search_parameters = pywrapcp.DefaultRoutingSearchParameters()\n",
    "    search_parameters.first_solution_strategy = (\n",
    "        routing_enums_pb2.FirstSolutionStrategy.PATH_CHEAPEST_ARC)\n",
    "\n",
    "    search_parameters.time_limit.seconds=30\n",
    "    search_parameters.solution_limit=100\n",
    "\n",
    "    # Solve the problem.\n",
    "    solution = routing.SolveWithParameters(search_parameters)\n",
    "\n",
    "    # Print solution on console.\n",
    "    if solution:\n",
    "        print_solution(data, manager, routing, solution)\n",
    "    else:\n",
    "        print('No solution found !')\n",
    "\n",
    "\n",
    "if __name__ == '__main__':\n",
    "    main()"
   ]
  },
  {
   "cell_type": "code",
   "execution_count": null,
   "metadata": {},
   "outputs": [],
   "source": []
  }
 ],
 "metadata": {
  "interpreter": {
   "hash": "6d6d90283793380777905413a43cd95952b4d1d8f4c9349b10b54676c6cbfe66"
  },
  "kernelspec": {
   "display_name": "Python 3.7.11 64-bit (conda)",
   "name": "python3"
  },
  "language_info": {
   "codemirror_mode": {
    "name": "ipython",
    "version": 3
   },
   "file_extension": ".py",
   "mimetype": "text/x-python",
   "name": "python",
   "nbconvert_exporter": "python",
   "pygments_lexer": "ipython3",
   "version": "3.7.11"
  },
  "orig_nbformat": 4
 },
 "nbformat": 4,
 "nbformat_minor": 2
}
